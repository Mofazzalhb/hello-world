{
  "nbformat": 4,
  "nbformat_minor": 0,
  "metadata": {
    "colab": {
      "name": "Churn credit card data analysis with Pandas.ipynb",
      "provenance": [],
      "collapsed_sections": [],
      "authorship_tag": "ABX9TyNggMtOSwqOupAcDVOxwAW8",
      "include_colab_link": true
    },
    "kernelspec": {
      "name": "python3",
      "display_name": "Python 3"
    }
  },
  "cells": [
    {
      "cell_type": "markdown",
      "metadata": {
        "id": "view-in-github",
        "colab_type": "text"
      },
      "source": [
        "<a href=\"https://colab.research.google.com/github/Mofazzalhb/hello-world/blob/master/Churn_credit_card_data_analysis_with_Pandas.ipynb\" target=\"_parent\"><img src=\"https://colab.research.google.com/assets/colab-badge.svg\" alt=\"Open In Colab\"/></a>"
      ]
    },
    {
      "cell_type": "code",
      "metadata": {
        "id": "uYQd3Bn4Kmj4"
      },
      "source": [
        "# upload churn.csv file from local drive by files> upload to session storage\r\n",
        "#Let’s start by reading the csv file into a pandas dataframe.\r\n",
        "import numpy as np\r\n",
        "import pandas as pd\r\n",
        "# allocate data file to variable. Right click file name and copy path to paste in read funtion as argument\r\n",
        "dfile= pd.read_csv('/content/churn.csv')"
      ],
      "execution_count": null,
      "outputs": []
    },
    {
      "cell_type": "code",
      "metadata": {
        "colab": {
          "base_uri": "https://localhost:8080/"
        },
        "id": "JWzXOfWBM47d",
        "outputId": "7458619a-c4be-4e6f-a15e-5773bee212c1"
      },
      "source": [
        "dfile.shape # function to show no of rows and cols"
      ],
      "execution_count": null,
      "outputs": [
        {
          "output_type": "execute_result",
          "data": {
            "text/plain": [
              "(10000, 13)"
            ]
          },
          "metadata": {
            "tags": []
          },
          "execution_count": 10
        }
      ]
    },
    {
      "cell_type": "code",
      "metadata": {
        "colab": {
          "base_uri": "https://localhost:8080/"
        },
        "id": "5AsXiHcfNFsz",
        "outputId": "c912ca60-01fa-4116-ed71-42a1dbe03c44"
      },
      "source": [
        "dfile.columns # shows col index names"
      ],
      "execution_count": null,
      "outputs": [
        {
          "output_type": "execute_result",
          "data": {
            "text/plain": [
              "Index(['CustomerId', 'Surname', 'CreditScore', 'Geography', 'Gender', 'Age',\n",
              "       'Tenure', 'Balance', 'NumOfProducts', 'HasCrCard', 'IsActiveMember',\n",
              "       'EstimatedSalary', 'Exited'],\n",
              "      dtype='object')"
            ]
          },
          "metadata": {
            "tags": []
          },
          "execution_count": 11
        }
      ]
    },
    {
      "cell_type": "code",
      "metadata": {
        "colab": {
          "base_uri": "https://localhost:8080/"
        },
        "id": "gv9JmzYENw2f",
        "outputId": "49e70e1b-d8ea-400c-d837-b7df641c2a64"
      },
      "source": [
        "#1. Dropping columns: The drop function is used to drop columns and rows. We pass the labels of rows or columns to be dropped.\r\n",
        "dfile.drop(['CustomerId', 'Surname', 'CreditScore'], axis=1, inplace=True) #The axis parameter is set as 1 to drop columns and 0 for rows.\r\n",
        "dfile.shape # function to show no of rows and cols                      # The inplace parameter is set as True to save the changes."
      ],
      "execution_count": null,
      "outputs": [
        {
          "output_type": "execute_result",
          "data": {
            "text/plain": [
              "(10000, 10)"
            ]
          },
          "metadata": {
            "tags": []
          },
          "execution_count": 12
        }
      ]
    },
    {
      "cell_type": "code",
      "metadata": {
        "colab": {
          "base_uri": "https://localhost:8080/",
          "height": 359
        },
        "id": "ZF0kHFTaPQrE",
        "outputId": "884f19f9-55f6-4632-cb9f-f081c7b01b02"
      },
      "source": [
        "#2. Select particular columns while reading We can read only some of the columns from the csv file. The list of columns is passed to the usecols parameter while reading. \r\n",
        "#It is better than dropping later on if you know the column names beforehand.\r\n",
        "dfile_spec=pd.read_csv('/content/churn.csv',usecols=['Gender','Age','Tenure','Balance'])\r\n",
        "dfile_spec.head(10) # disply selcted col and top 10 rows\r\n",
        "\r\n"
      ],
      "execution_count": null,
      "outputs": [
        {
          "output_type": "execute_result",
          "data": {
            "text/html": [
              "<div>\n",
              "<style scoped>\n",
              "    .dataframe tbody tr th:only-of-type {\n",
              "        vertical-align: middle;\n",
              "    }\n",
              "\n",
              "    .dataframe tbody tr th {\n",
              "        vertical-align: top;\n",
              "    }\n",
              "\n",
              "    .dataframe thead th {\n",
              "        text-align: right;\n",
              "    }\n",
              "</style>\n",
              "<table border=\"1\" class=\"dataframe\">\n",
              "  <thead>\n",
              "    <tr style=\"text-align: right;\">\n",
              "      <th></th>\n",
              "      <th>Gender</th>\n",
              "      <th>Age</th>\n",
              "      <th>Tenure</th>\n",
              "      <th>Balance</th>\n",
              "    </tr>\n",
              "  </thead>\n",
              "  <tbody>\n",
              "    <tr>\n",
              "      <th>0</th>\n",
              "      <td>Female</td>\n",
              "      <td>42</td>\n",
              "      <td>2</td>\n",
              "      <td>0.00</td>\n",
              "    </tr>\n",
              "    <tr>\n",
              "      <th>1</th>\n",
              "      <td>Female</td>\n",
              "      <td>41</td>\n",
              "      <td>1</td>\n",
              "      <td>83807.86</td>\n",
              "    </tr>\n",
              "    <tr>\n",
              "      <th>2</th>\n",
              "      <td>Female</td>\n",
              "      <td>42</td>\n",
              "      <td>8</td>\n",
              "      <td>159660.80</td>\n",
              "    </tr>\n",
              "    <tr>\n",
              "      <th>3</th>\n",
              "      <td>Female</td>\n",
              "      <td>39</td>\n",
              "      <td>1</td>\n",
              "      <td>0.00</td>\n",
              "    </tr>\n",
              "    <tr>\n",
              "      <th>4</th>\n",
              "      <td>Female</td>\n",
              "      <td>43</td>\n",
              "      <td>2</td>\n",
              "      <td>125510.82</td>\n",
              "    </tr>\n",
              "    <tr>\n",
              "      <th>5</th>\n",
              "      <td>Male</td>\n",
              "      <td>44</td>\n",
              "      <td>8</td>\n",
              "      <td>113755.78</td>\n",
              "    </tr>\n",
              "    <tr>\n",
              "      <th>6</th>\n",
              "      <td>Male</td>\n",
              "      <td>50</td>\n",
              "      <td>7</td>\n",
              "      <td>0.00</td>\n",
              "    </tr>\n",
              "    <tr>\n",
              "      <th>7</th>\n",
              "      <td>Female</td>\n",
              "      <td>29</td>\n",
              "      <td>4</td>\n",
              "      <td>115046.74</td>\n",
              "    </tr>\n",
              "    <tr>\n",
              "      <th>8</th>\n",
              "      <td>Male</td>\n",
              "      <td>44</td>\n",
              "      <td>4</td>\n",
              "      <td>142051.07</td>\n",
              "    </tr>\n",
              "    <tr>\n",
              "      <th>9</th>\n",
              "      <td>Male</td>\n",
              "      <td>27</td>\n",
              "      <td>2</td>\n",
              "      <td>134603.88</td>\n",
              "    </tr>\n",
              "  </tbody>\n",
              "</table>\n",
              "</div>"
            ],
            "text/plain": [
              "   Gender  Age  Tenure    Balance\n",
              "0  Female   42       2       0.00\n",
              "1  Female   41       1   83807.86\n",
              "2  Female   42       8  159660.80\n",
              "3  Female   39       1       0.00\n",
              "4  Female   43       2  125510.82\n",
              "5    Male   44       8  113755.78\n",
              "6    Male   50       7       0.00\n",
              "7  Female   29       4  115046.74\n",
              "8    Male   44       4  142051.07\n",
              "9    Male   27       2  134603.88"
            ]
          },
          "metadata": {
            "tags": []
          },
          "execution_count": 13
        }
      ]
    },
    {
      "cell_type": "code",
      "metadata": {
        "colab": {
          "base_uri": "https://localhost:8080/"
        },
        "id": "223eheJljIj3",
        "outputId": "1d0a70da-230b-4a75-dc8d-97c69ddd0734"
      },
      "source": [
        "#3. Reading a part of the dataframe The read_csv function allows reading a part of the dataframe in terms of the rows. There are two options. \r\n",
        "#The first one is to read the first n number of rows.\r\n",
        "df_partial=pd.read_csv('/content/churn.csv', nrows=5000)\r\n",
        "df_partial.shape\r\n",
        "#We can also select rows from the end of the file by using the skiprows parameter. Skiprows=5000 means that we will skip the first 5000 rows while reading the csv file."
      ],
      "execution_count": null,
      "outputs": [
        {
          "output_type": "execute_result",
          "data": {
            "text/plain": [
              "(5000, 13)"
            ]
          },
          "metadata": {
            "tags": []
          },
          "execution_count": 14
        }
      ]
    },
    {
      "cell_type": "code",
      "metadata": {
        "colab": {
          "base_uri": "https://localhost:8080/"
        },
        "id": "e8ou2kRPkXGt",
        "outputId": "79f91b75-476a-418a-cdbd-df91c38ae8fb"
      },
      "source": [
        "#4. Sample After creating a dataframe, we may want to draw a small sample to work.\r\n",
        "# We can either use the n parameter or frac parameter to determine the sample size. frac= sample size/dataframe size\r\n",
        "dfile_sample=dfile.sample(n=1000)\r\n",
        "dfile_sample.shape # result showing 1k samples with 10% of df"
      ],
      "execution_count": null,
      "outputs": [
        {
          "output_type": "execute_result",
          "data": {
            "text/plain": [
              "(1000, 10)"
            ]
          },
          "metadata": {
            "tags": []
          },
          "execution_count": 15
        }
      ]
    },
    {
      "cell_type": "code",
      "metadata": {
        "colab": {
          "base_uri": "https://localhost:8080/"
        },
        "id": "dH1fgm6xn9Mc",
        "outputId": "c68bdf2b-64bb-4eda-a844-826fac55dd34"
      },
      "source": [
        "dfile_sample2=dfile.sample(frac=.1)     # use of fraction as another way\r\n",
        "dfile_sample2.shape\r\n"
      ],
      "execution_count": null,
      "outputs": [
        {
          "output_type": "execute_result",
          "data": {
            "text/plain": [
              "(1000, 10)"
            ]
          },
          "metadata": {
            "tags": []
          },
          "execution_count": 16
        }
      ]
    },
    {
      "cell_type": "code",
      "metadata": {
        "colab": {
          "base_uri": "https://localhost:8080/"
        },
        "id": "hdjCGkhBkG7q",
        "outputId": "59f6a429-6bb0-4cdc-ca44-5f7e02e834c0"
      },
      "source": [
        "#5. Checking the missing values The isna function determines the missing values in a dataframe\r\n",
        "dfile.isna().sum()\r\n"
      ],
      "execution_count": 27,
      "outputs": [
        {
          "output_type": "execute_result",
          "data": {
            "text/plain": [
              "Geography           0\n",
              "Gender              0\n",
              "Age                 0\n",
              "Tenure              0\n",
              "Balance             0\n",
              "NumOfProducts       0\n",
              "HasCrCard           0\n",
              "IsActiveMember      0\n",
              "EstimatedSalary    44\n",
              "Exited              0\n",
              "dtype: int64"
            ]
          },
          "metadata": {
            "tags": []
          },
          "execution_count": 27
        }
      ]
    },
    {
      "cell_type": "code",
      "metadata": {
        "colab": {
          "base_uri": "https://localhost:8080/"
        },
        "id": "M_0C7B2t94z2",
        "outputId": "958cdc02-7c06-4e2b-c881-bd78017c163e"
      },
      "source": [
        "#6. Filling missing values The fillna function is used to fill the missing values. It provides many options. \r\n",
        "#We can use a specific value, an aggregate function (e.g. mean), or the previous or next value.\r\n",
        "dfile['Geography'].value_counts()\r\n",
        "\r\n"
      ],
      "execution_count": 28,
      "outputs": [
        {
          "output_type": "execute_result",
          "data": {
            "text/plain": [
              "France     5050\n",
              "Germany    2492\n",
              "Spain      2458\n",
              "Name: Geography, dtype: int64"
            ]
          },
          "metadata": {
            "tags": []
          },
          "execution_count": 28
        }
      ]
    },
    {
      "cell_type": "code",
      "metadata": {
        "colab": {
          "base_uri": "https://localhost:8080/"
        },
        "id": "mhhXlsca_5Hm",
        "outputId": "d345f0ee-f4d2-45f9-e254-ff060682c346"
      },
      "source": [
        "# replace with mode, most common value of catagory data col\r\n",
        "mode=dfile['Geography'].value_counts().index[0]\r\n",
        "dfile['Geography'].fillna(value=mode,inplace=True)\r\n",
        "dfile['Geography'].value_counts() # filled with France below ( 5050-4973)=77 extra missing geography"
      ],
      "execution_count": 29,
      "outputs": [
        {
          "output_type": "execute_result",
          "data": {
            "text/plain": [
              "France     5050\n",
              "Germany    2492\n",
              "Spain      2458\n",
              "Name: Geography, dtype: int64"
            ]
          },
          "metadata": {
            "tags": []
          },
          "execution_count": 29
        }
      ]
    },
    {
      "cell_type": "code",
      "metadata": {
        "colab": {
          "base_uri": "https://localhost:8080/"
        },
        "id": "5cmn4SVEVw1w",
        "outputId": "b07f3056-c692-4e30-9a15-8f611c1fa5fd"
      },
      "source": [
        "dfile['Gender'].value_counts()"
      ],
      "execution_count": 30,
      "outputs": [
        {
          "output_type": "execute_result",
          "data": {
            "text/plain": [
              "Male      5421\n",
              "Female    4579\n",
              "Name: Gender, dtype: int64"
            ]
          },
          "metadata": {
            "tags": []
          },
          "execution_count": 30
        }
      ]
    },
    {
      "cell_type": "code",
      "metadata": {
        "id": "MU9cNEt-BUtj",
        "colab": {
          "base_uri": "https://localhost:8080/"
        },
        "outputId": "54332efd-60a6-4cfa-b523-48d70d4d639c"
      },
      "source": [
        "# replace with mode, most common value of catagory data col\r\n",
        "mode=dfile['Gender'].value_counts().index[1]\r\n",
        "dfile['Gender'].fillna(value=mode,inplace=True)\r\n",
        "dfile['Gender'].value_counts()"
      ],
      "execution_count": 31,
      "outputs": [
        {
          "output_type": "execute_result",
          "data": {
            "text/plain": [
              "Male      5421\n",
              "Female    4579\n",
              "Name: Gender, dtype: int64"
            ]
          },
          "metadata": {
            "tags": []
          },
          "execution_count": 31
        }
      ]
    },
    {
      "cell_type": "code",
      "metadata": {
        "id": "NN4dafjMVvWm"
      },
      "source": [
        "# avg for salery\r\n",
        "Avgsal=dfile['EstimatedSalary'].mean()\r\n",
        "dfile['EstimatedSalary'].fillna(value=Avgsal,inplace=True)\r\n"
      ],
      "execution_count": 36,
      "outputs": []
    },
    {
      "cell_type": "code",
      "metadata": {
        "colab": {
          "base_uri": "https://localhost:8080/"
        },
        "id": "g-tAkjWSXnd-",
        "outputId": "c719c9cf-dbdc-4da9-879c-94b4bc0f470b"
      },
      "source": [
        "# Re checking the missing values The isna function determines the missing values in a dataframe. Use filna fuction to replace missing value\r\n",
        "dfile.isna().sum()"
      ],
      "execution_count": 38,
      "outputs": [
        {
          "output_type": "execute_result",
          "data": {
            "text/plain": [
              "Geography          0\n",
              "Gender             0\n",
              "Age                0\n",
              "Tenure             0\n",
              "Balance            0\n",
              "NumOfProducts      0\n",
              "HasCrCard          0\n",
              "IsActiveMember     0\n",
              "EstimatedSalary    0\n",
              "Exited             0\n",
              "dtype: int64"
            ]
          },
          "metadata": {
            "tags": []
          },
          "execution_count": 38
        }
      ]
    },
    {
      "cell_type": "code",
      "metadata": {
        "id": "9xSHi_eiYo76"
      },
      "source": [
        ""
      ],
      "execution_count": null,
      "outputs": []
    }
  ]
}